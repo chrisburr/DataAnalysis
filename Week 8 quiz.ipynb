{
 "cells": [
  {
   "cell_type": "code",
   "execution_count": 1,
   "metadata": {},
   "outputs": [
    {
     "name": "stdout",
     "output_type": "stream",
     "text": [
      "Populating the interactive namespace from numpy and matplotlib\n"
     ]
    }
   ],
   "source": [
    "%pylab inline\n",
    "import numpy as np\n",
    "import scipy\n",
    "import io\n",
    "import base64\n",
    "from IPython.display import HTML, Image\n",
    "from scipy.stats import binom, poisson\n",
    "from matplotlib.collections import PatchCollection\n",
    "from matplotlib.patches import Circle, Rectangle\n",
    "\n",
    "## Customising the font size\n",
    "plt.rcParams.update({'font.size': 14})\n",
    "plt.rcParams['figure.figsize'] = [16,8]"
   ]
  },
  {
   "cell_type": "code",
   "execution_count": 30,
   "metadata": {},
   "outputs": [
    {
     "data": {
      "text/plain": [
       "0.1353352832366127"
      ]
     },
     "execution_count": 30,
     "metadata": {},
     "output_type": "execute_result"
    }
   ],
   "source": [
    "nStudents = 20\n",
    "nFemale = 3\n",
    "k = nFemale\n",
    "cl = 0.80\n",
    "poisson.pmf(0,2)\n",
    "#poisson.ppf(0.1,2.4)\n",
    "#poisson.cdf(0,2.4)"
   ]
  },
  {
   "cell_type": "code",
   "execution_count": 29,
   "metadata": {},
   "outputs": [
    {
     "data": {
      "image/png": "[encoded data removed]",
      "text/plain": [
       "<matplotlib.figure.Figure at 0x10d4797f0>"
      ]
     },
     "metadata": {},
     "output_type": "display_data"
    }
   ],
   "source": [
    "def get_central_interval(cl, k):\n",
    "    # calculate r- and r+ based on pre-defined functions\n",
    "    rm = poisson.ppf(0.5*(1-cl), k)\n",
    "    rp = poisson.ppf(0.5*(1-cl) + cl, k)\n",
    "    return rm, rp\n",
    "\n",
    "def get_central_interval_details(cl, k):\n",
    "    # calculate r- and r+ based on calculation of sums of probabilities\n",
    "    sump = 0.\n",
    "    summ = 0.\n",
    "    foundp = False\n",
    "    foundm = False\n",
    "    rv = poisson(k) # initialise binomial distribution\n",
    "    for x in range(0,n+1):\n",
    "        p = rv.pmf(x) # obtain probability\n",
    "        sump += p\n",
    "        if not foundp and 0.5*(1-cl) + cl <= sump: # check for first time exceeding threshold\n",
    "            rp = x\n",
    "            foundp = True\n",
    "        p = rv.pmf(n-x) # obtain probability, summing up from maximum backwards\n",
    "        summ += p\n",
    "        if not foundm and 0.5*(1-cl) + cl <= summ: # check for first time exceeding threshold\n",
    "            rm = n-x\n",
    "            foundm = True\n",
    "    return rm, rp\n",
    "\n",
    "nSamples = 100 # defines granularity in y (=probability)\n",
    "poisson_patches = []\n",
    "for i in range(1,nSamples):\n",
    "    thisk = 1. * i * 5 * k / nSamples # translate into probability\n",
    "    #rm, rp = get_central_interval_details(0.95, nStudents, pFemale) # use detailed calculation\n",
    "    rm, rp = get_central_interval(cl, thisk) # use fast implementation\n",
    "    poisson_patches.append( Rectangle((rm,thisk),rp-rm,5.*k/nSamples) ) # define drawing object for confidence interval\n",
    "poissons = PatchCollection(poisson_patches, alpha=0.5, color='tab:purple') # drawing object for complete belt\n",
    "\n",
    "fig, ax = plt.subplots()\n",
    "ax.set_xlim(0,5*k) # set x axis range\n",
    "ax.set_ylim(0,5*k)         # set y axis range\n",
    "\n",
    "ax.add_collection(poissons) # draw belt\n",
    "\n",
    "# plot optics\n",
    "ax.set_yticks([x*5*k/20. for x in range(21)])\n",
    "ax.set_xticks([5*x for x in range(k)])\n",
    "ax.grid(which='both',axis='x')\n",
    "ax.grid(which='major',axis='y')\n",
    "\n",
    "# reality check\n",
    "#ax.plot([0,nStudents],[0.26]*2)\n",
    "#ax.plot([nFemale]*2,[0,1])\n",
    "\n",
    "plt.show()"
   ]
  },
  {
   "cell_type": "code",
   "execution_count": 35,
   "metadata": {},
   "outputs": [
    {
     "name": "stdout",
     "output_type": "stream",
     "text": [
      "0.15120388277664787\n"
     ]
    }
   ],
   "source": [
    "print(poisson.pmf(0,6)+poisson.pmf(1,6)+poisson.pmf(2,6)+poisson.pmf(3,6))"
   ]
  },
  {
   "cell_type": "code",
   "execution_count": null,
   "metadata": {},
   "outputs": [],
   "source": []
  }
 ],
 "metadata": {
  "kernelspec": {
   "display_name": "Python 3",
   "language": "python",
   "name": "python3"
  },
  "language_info": {
   "codemirror_mode": {
    "name": "ipython",
    "version": 3
   },
   "file_extension": ".py",
   "mimetype": "text/x-python",
   "name": "python",
   "nbconvert_exporter": "python",
   "pygments_lexer": "ipython3",
   "version": "3.6.4"
  }
 },
 "nbformat": 4,
 "nbformat_minor": 2
}
